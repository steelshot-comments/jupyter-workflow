{
 "cells": [
  {
   "cell_type": "code",
   "execution_count": 1,
   "id": "626aa9fb",
   "metadata": {},
   "outputs": [
    {
     "data": {
      "text/html": [
       "<div>\n",
       "<style scoped>\n",
       "    .dataframe tbody tr th:only-of-type {\n",
       "        vertical-align: middle;\n",
       "    }\n",
       "\n",
       "    .dataframe tbody tr th {\n",
       "        vertical-align: top;\n",
       "    }\n",
       "\n",
       "    .dataframe thead th {\n",
       "        text-align: right;\n",
       "    }\n",
       "</style>\n",
       "<table border=\"1\" class=\"dataframe\">\n",
       "  <thead>\n",
       "    <tr style=\"text-align: right;\">\n",
       "      <th></th>\n",
       "      <th>x</th>\n",
       "      <th>y</th>\n",
       "    </tr>\n",
       "  </thead>\n",
       "  <tbody>\n",
       "    <tr>\n",
       "      <th>0</th>\n",
       "      <td>10</td>\n",
       "      <td>100</td>\n",
       "    </tr>\n",
       "    <tr>\n",
       "      <th>1</th>\n",
       "      <td>20</td>\n",
       "      <td>200</td>\n",
       "    </tr>\n",
       "    <tr>\n",
       "      <th>2</th>\n",
       "      <td>30</td>\n",
       "      <td>300</td>\n",
       "    </tr>\n",
       "    <tr>\n",
       "      <th>3</th>\n",
       "      <td>40</td>\n",
       "      <td>400</td>\n",
       "    </tr>\n",
       "    <tr>\n",
       "      <th>4</th>\n",
       "      <td>50</td>\n",
       "      <td>500</td>\n",
       "    </tr>\n",
       "    <tr>\n",
       "      <th>5</th>\n",
       "      <td>60</td>\n",
       "      <td>600</td>\n",
       "    </tr>\n",
       "    <tr>\n",
       "      <th>6</th>\n",
       "      <td>70</td>\n",
       "      <td>700</td>\n",
       "    </tr>\n",
       "    <tr>\n",
       "      <th>7</th>\n",
       "      <td>80</td>\n",
       "      <td>800</td>\n",
       "    </tr>\n",
       "    <tr>\n",
       "      <th>8</th>\n",
       "      <td>90</td>\n",
       "      <td>900</td>\n",
       "    </tr>\n",
       "    <tr>\n",
       "      <th>9</th>\n",
       "      <td>100</td>\n",
       "      <td>1000</td>\n",
       "    </tr>\n",
       "    <tr>\n",
       "      <th>10</th>\n",
       "      <td>110</td>\n",
       "      <td>1100</td>\n",
       "    </tr>\n",
       "    <tr>\n",
       "      <th>11</th>\n",
       "      <td>120</td>\n",
       "      <td>1200</td>\n",
       "    </tr>\n",
       "    <tr>\n",
       "      <th>12</th>\n",
       "      <td>130</td>\n",
       "      <td>1300</td>\n",
       "    </tr>\n",
       "    <tr>\n",
       "      <th>13</th>\n",
       "      <td>140</td>\n",
       "      <td>1400</td>\n",
       "    </tr>\n",
       "    <tr>\n",
       "      <th>14</th>\n",
       "      <td>150</td>\n",
       "      <td>1500</td>\n",
       "    </tr>\n",
       "    <tr>\n",
       "      <th>15</th>\n",
       "      <td>160</td>\n",
       "      <td>1600</td>\n",
       "    </tr>\n",
       "    <tr>\n",
       "      <th>16</th>\n",
       "      <td>170</td>\n",
       "      <td>1700</td>\n",
       "    </tr>\n",
       "    <tr>\n",
       "      <th>17</th>\n",
       "      <td>180</td>\n",
       "      <td>1800</td>\n",
       "    </tr>\n",
       "    <tr>\n",
       "      <th>18</th>\n",
       "      <td>190</td>\n",
       "      <td>1900</td>\n",
       "    </tr>\n",
       "    <tr>\n",
       "      <th>19</th>\n",
       "      <td>200</td>\n",
       "      <td>2000</td>\n",
       "    </tr>\n",
       "  </tbody>\n",
       "</table>\n",
       "</div>"
      ],
      "text/plain": [
       "      x     y\n",
       "0    10   100\n",
       "1    20   200\n",
       "2    30   300\n",
       "3    40   400\n",
       "4    50   500\n",
       "5    60   600\n",
       "6    70   700\n",
       "7    80   800\n",
       "8    90   900\n",
       "9   100  1000\n",
       "10  110  1100\n",
       "11  120  1200\n",
       "12  130  1300\n",
       "13  140  1400\n",
       "14  150  1500\n",
       "15  160  1600\n",
       "16  170  1700\n",
       "17  180  1800\n",
       "18  190  1900\n",
       "19  200  2000"
      ]
     },
     "execution_count": 1,
     "metadata": {},
     "output_type": "execute_result"
    }
   ],
   "source": [
    "import math\n",
    "import random\n",
    "import numpy as np\n",
    "import matplotlib.pyplot as plt\n",
    "import pandas as pd\n",
    "\n",
    "data = pd.read_csv(\"linear_increasing_data.csv\")\n",
    "\n",
    "x = data['x']\n",
    "y = data['y']\n",
    "data"
   ]
  },
  {
   "cell_type": "code",
   "execution_count": 2,
   "id": "f2d66c5b",
   "metadata": {},
   "outputs": [
    {
     "data": {
      "text/plain": [
       "(105.0, 1050.0)"
      ]
     },
     "execution_count": 2,
     "metadata": {},
     "output_type": "execute_result"
    }
   ],
   "source": [
    "x_mean = 0\n",
    "y_mean = 0\n",
    "\n",
    "for i in x:\n",
    "    x_mean += i\n",
    "\n",
    "for i in y:\n",
    "    y_mean += i\n",
    "\n",
    "y_mean = y_mean / 20\n",
    "x_mean = x_mean / 20\n",
    "\n",
    "x_mean,y_mean"
   ]
  },
  {
   "cell_type": "code",
   "execution_count": 3,
   "id": "27eb9f05",
   "metadata": {},
   "outputs": [
    {
     "data": {
      "text/plain": [
       "[1000,\n",
       " 4000,\n",
       " 9000,\n",
       " 16000,\n",
       " 25000,\n",
       " 36000,\n",
       " 49000,\n",
       " 64000,\n",
       " 81000,\n",
       " 100000,\n",
       " 121000,\n",
       " 144000,\n",
       " 169000,\n",
       " 196000,\n",
       " 225000,\n",
       " 256000,\n",
       " 289000,\n",
       " 324000,\n",
       " 361000,\n",
       " 400000]"
      ]
     },
     "execution_count": 3,
     "metadata": {},
     "output_type": "execute_result"
    }
   ],
   "source": [
    "xy = []\n",
    "i = 0\n",
    "while i < 20:\n",
    "    xy.append(data['x'][i] * data['y'][i])\n",
    "    i += 1\n",
    "    \n",
    "xy"
   ]
  },
  {
   "cell_type": "code",
   "execution_count": 4,
   "id": "61e9995a",
   "metadata": {},
   "outputs": [
    {
     "data": {
      "text/plain": [
       "143500.0"
      ]
     },
     "execution_count": 4,
     "metadata": {},
     "output_type": "execute_result"
    }
   ],
   "source": [
    "xy_mean = 0\n",
    "for i in xy:\n",
    "    xy_mean += i\n",
    "    \n",
    "xy_mean = xy_mean / 20\n",
    "xy_mean"
   ]
  },
  {
   "cell_type": "code",
   "execution_count": 5,
   "id": "a85e0968",
   "metadata": {},
   "outputs": [],
   "source": [
    "slope = ((x_mean * y_mean) - xy_mean) / ((x_mean ** 2) - (y_mean ** 2))\n",
    "intercept = y_mean - (slope * x_mean)"
   ]
  },
  {
   "cell_type": "code",
   "execution_count": 6,
   "id": "4e48a113",
   "metadata": {},
   "outputs": [],
   "source": [
    "def abline(m, b):\n",
    "    axes = plt.gca()\n",
    "    x_vals = np.array(axes.get_xlim())\n",
    "    y_vals = b + m * x_vals\n",
    "    plt.plot(x_vals, y_vals, '--', color = 'hotpink')"
   ]
  },
  {
   "cell_type": "code",
   "execution_count": 7,
   "id": "5d6b0d1c",
   "metadata": {
    "scrolled": true
   },
   "outputs": [
    {
     "data": {
      "image/png": "[encoded data removed]",
      "text/plain": [
       "<Figure size 432x288 with 1 Axes>"
      ]
     },
     "metadata": {
      "needs_background": "light"
     },
     "output_type": "display_data"
    }
   ],
   "source": [
    "plt.scatter(x, y)\n",
    "abline(slope, intercept)\n",
    "plt.show()"
   ]
  },
  {
   "cell_type": "code",
   "execution_count": 8,
   "id": "8aabc5fb",
   "metadata": {},
   "outputs": [],
   "source": [
    "def predict_y(x_val):\n",
    "    y = (slope * x_val) + intercept\n",
    "    return y"
   ]
  },
  {
   "cell_type": "code",
   "execution_count": 9,
   "id": "0edb997d",
   "metadata": {
    "scrolled": true
   },
   "outputs": [
    {
     "name": "stdout",
     "output_type": "stream",
     "text": [
      "72 1048.994708994709\n"
     ]
    }
   ],
   "source": [
    "x_test = random.randint(0, 500)\n",
    "y_prediction = predict_y(x_test)\n",
    "print(x_test, y_prediction)"
   ]
  },
  {
   "cell_type": "code",
   "execution_count": 10,
   "id": "8214b2a7",
   "metadata": {
    "scrolled": true
   },
   "outputs": [
    {
     "data": {
      "image/png": "[encoded data removed]",
      "text/plain": [
       "<Figure size 432x288 with 1 Axes>"
      ]
     },
     "metadata": {
      "needs_background": "light"
     },
     "output_type": "display_data"
    }
   ],
   "source": [
    "plt.scatter(x, y)\n",
    "plt.plot(x_test, y_prediction, 'o', color='orange')\n",
    "abline(slope, intercept)\n",
    "plt.show()"
   ]
  }
 ],
 "metadata": {
  "kernelspec": {
   "display_name": "Python 3 (ipykernel)",
   "language": "python",
   "name": "python3"
  },
  "language_info": {
   "codemirror_mode": {
    "name": "ipython",
    "version": 3
   },
   "file_extension": ".py",
   "mimetype": "text/x-python",
   "name": "python",
   "nbconvert_exporter": "python",
   "pygments_lexer": "ipython3",
   "version": "3.10.0"
  }
 },
 "nbformat": 4,
 "nbformat_minor": 5
}
